{
 "cells": [
  {
   "cell_type": "markdown",
   "metadata": {},
   "source": [
    "# 第3章: 正規表現\n",
    "Wikipediaの記事を以下のフォーマットで書き出したファイルjawiki-country.json.gzがある．\n",
    "\n",
    "- 1行に1記事の情報がJSON形式で格納される\n",
    "- 各行には記事名が\"title\"キーに，記事本文が\"text\"キーの辞書オブジェクトに格納され，そのオブジェクトがJSON形式で書き出される\n",
    "- ファイル全体はgzipで圧縮される\n",
    "\n",
    "以下の処理を行うプログラムを作成せよ．\n",
    "\n",
    "## 20. JSONデータの読み込み\n",
    "Wikipedia記事のJSONファイルを読み込み，「イギリス」に関する記事本文を表示せよ．問題21-29では，ここで抽出した記事本文に対して実行せよ．"
   ]
  },
  {
   "cell_type": "code",
   "execution_count": 4,
   "metadata": {},
   "outputs": [],
   "source": [
    "import json\n",
    "from json.decoder import WHITESPACE"
   ]
  },
  {
   "cell_type": "code",
   "execution_count": 5,
   "metadata": {},
   "outputs": [],
   "source": [
    "with open('./data/jawiki-country.json') as f:\n",
    "    string = f.read()"
   ]
  },
  {
   "cell_type": "code",
   "execution_count": 16,
   "metadata": {},
   "outputs": [
    {
     "name": "stdout",
     "output_type": "stream",
     "text": [
      "いぎりす\n"
     ]
    }
   ],
   "source": [
    "import gzip\n",
    "import json\n",
    "fname = './data/jawiki-country.json.gz'\n",
    "\n",
    "with gzip.open(fname, 'rt') as data_file:\n",
    "    for line in data_file:\n",
    "        data_json = json.loads(line)\n",
    "        if data_json['title'] == 'イギリス':\n",
    "            print('いぎりす')\n",
    "#             print(data_json['text'])\n",
    "            break"
   ]
  },
  {
   "cell_type": "code",
   "execution_count": null,
   "metadata": {},
   "outputs": [],
   "source": []
  }
 ],
 "metadata": {
  "kernelspec": {
   "display_name": "Python 3",
   "language": "python",
   "name": "python3"
  },
  "language_info": {
   "codemirror_mode": {
    "name": "ipython",
    "version": 3
   },
   "file_extension": ".py",
   "mimetype": "text/x-python",
   "name": "python",
   "nbconvert_exporter": "python",
   "pygments_lexer": "ipython3",
   "version": "3.6.7"
  }
 },
 "nbformat": 4,
 "nbformat_minor": 4
}
