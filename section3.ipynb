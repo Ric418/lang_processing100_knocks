{
 "cells": [
  {
   "cell_type": "markdown",
   "metadata": {},
   "source": [
    "# 第3章: 正規表現\n",
    "Wikipediaの記事を以下のフォーマットで書き出したファイルjawiki-country.json.gzがある．\n",
    "\n",
    "- 1行に1記事の情報がJSON形式で格納される\n",
    "- 各行には記事名が\"title\"キーに，記事本文が\"text\"キーの辞書オブジェクトに格納され，そのオブジェクトがJSON形式で書き出される\n",
    "- ファイル全体はgzipで圧縮される\n",
    "\n",
    "以下の処理を行うプログラムを作成せよ．\n",
    "\n",
    "## 20. JSONデータの読み込み\n",
    "Wikipedia記事のJSONファイルを読み込み，「イギリス」に関する記事本文を表示せよ．問題21-29では，ここで抽出した記事本文に対して実行せよ．"
   ]
  },
  {
   "cell_type": "code",
   "execution_count": 4,
   "metadata": {},
   "outputs": [],
   "source": [
    "import json\n",
    "from json.decoder import WHITESPACE"
   ]
  },
  {
   "cell_type": "code",
   "execution_count": 5,
   "metadata": {},
   "outputs": [],
   "source": [
    "with open('./data/jawiki-country.json') as f:\n",
    "    string = f.read()"
   ]
  },
  {
   "cell_type": "code",
   "execution_count": 31,
   "metadata": {},
   "outputs": [
    {
     "name": "stdout",
     "output_type": "stream",
     "text": [
      "いぎりす\n"
     ]
    }
   ],
   "source": [
    "import gzip, json, re\n",
    "fname = './data/jawiki-country.json.gz'\n",
    "\n",
    "with gzip.open(fname, 'rt') as data_file:\n",
    "    for line in data_file:\n",
    "        data_json = json.loads(line)\n",
    "        if data_json['title'] == 'イギリス':\n",
    "            print('いぎりす')\n",
    "            UK_text=data_json['text']\n",
    "            break"
   ]
  },
  {
   "cell_type": "markdown",
   "metadata": {},
   "source": [
    "## 21. カテゴリ名を含む行を抽出\n",
    "記事中でカテゴリ名を宣言している行を抽出せよ．"
   ]
  },
  {
   "cell_type": "code",
   "execution_count": 41,
   "metadata": {},
   "outputs": [],
   "source": [
    "pattern21 = re.compile(r'''\n",
    "    ^   # 行頭\n",
    "    (   # キャプチャ対象のグループ開始\n",
    "    .*  # 任意の文字0文字以上\n",
    "    \\[\\[Category:\n",
    "    .*  # 任意の文字0文字以上\n",
    "    \\]\\]\n",
    "    .*  # 任意の文字0文字以上\n",
    "    )   # グループ終了\n",
    "    $   # 行末\n",
    "    ''', re.MULTILINE + re.VERBOSE)"
   ]
  },
  {
   "cell_type": "code",
   "execution_count": 42,
   "metadata": {},
   "outputs": [],
   "source": [
    "results21 = pattern21.findall(UK_text)"
   ]
  },
  {
   "cell_type": "code",
   "execution_count": 43,
   "metadata": {},
   "outputs": [
    {
     "name": "stdout",
     "output_type": "stream",
     "text": [
      "[[Category:イギリス|*]]\n",
      "[[Category:英連邦王国|*]]\n",
      "[[Category:G8加盟国]]\n",
      "[[Category:欧州連合加盟国]]\n",
      "[[Category:海洋国家]]\n",
      "[[Category:君主国]]\n",
      "[[Category:島国|くれいとふりてん]]\n",
      "[[Category:1801年に設立された州・地域]]\n"
     ]
    }
   ],
   "source": [
    "for line in results21:\n",
    "    print(line)"
   ]
  },
  {
   "cell_type": "markdown",
   "metadata": {},
   "source": [
    "## 22. カテゴリ名の抽出\n",
    "記事のカテゴリ名を（行単位ではなく名前で）抽出せよ．"
   ]
  },
  {
   "cell_type": "code",
   "execution_count": 88,
   "metadata": {},
   "outputs": [],
   "source": [
    "pattern22 = re.compile(r'''\n",
    "    \\[\\[Category:\n",
    "    (.*?)\n",
    "    (?:\\|.*)?\n",
    "    \\]\\]\n",
    "    ''', re.MULTILINE + re.VERBOSE)"
   ]
  },
  {
   "cell_type": "code",
   "execution_count": 89,
   "metadata": {},
   "outputs": [],
   "source": [
    "results22 = pattern22.findall(UK_text)"
   ]
  },
  {
   "cell_type": "code",
   "execution_count": 90,
   "metadata": {},
   "outputs": [
    {
     "name": "stdout",
     "output_type": "stream",
     "text": [
      "イギリス\n",
      "英連邦王国\n",
      "G8加盟国\n",
      "欧州連合加盟国\n",
      "海洋国家\n",
      "君主国\n",
      "島国\n",
      "1801年に設立された州・地域\n"
     ]
    }
   ],
   "source": [
    "for line in results22:\n",
    "    print(line)"
   ]
  },
  {
   "cell_type": "markdown",
   "metadata": {},
   "source": [
    "[(?:)に関しての参考](http://otukutun.hatenablog.com/entry/2015/08/02/004458)"
   ]
  },
  {
   "cell_type": "code",
   "execution_count": null,
   "metadata": {},
   "outputs": [],
   "source": []
  }
 ],
 "metadata": {
  "kernelspec": {
   "display_name": "Python 3",
   "language": "python",
   "name": "python3"
  },
  "language_info": {
   "codemirror_mode": {
    "name": "ipython",
    "version": 3
   },
   "file_extension": ".py",
   "mimetype": "text/x-python",
   "name": "python",
   "nbconvert_exporter": "python",
   "pygments_lexer": "ipython3",
   "version": "3.6.7"
  }
 },
 "nbformat": 4,
 "nbformat_minor": 4
}
