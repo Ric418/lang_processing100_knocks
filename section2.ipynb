{
 "cells": [
  {
   "cell_type": "markdown",
   "metadata": {},
   "source": [
    "# 第2章:UNIXコマンドの基礎\n",
    "hightemp.txtは，日本の最高気温の記録を「都道府県」「地点」「℃」「日」のタブ区切り形式で格納したファイルである．以下の処理を行うプログラムを作成し，hightemp.txtを入力ファイルとして実行せよ．さらに，同様の処理をUNIXコマンドでも実行し，プログラムの実行結果を確認せよ．"
   ]
  },
  {
   "cell_type": "code",
   "execution_count": 2,
   "metadata": {},
   "outputs": [],
   "source": [
    "TEXT_PATH='./data/hightemp.txt'"
   ]
  },
  {
   "cell_type": "markdown",
   "metadata": {},
   "source": [
    "## 10. 行数のカウント\n",
    "行数をカウントせよ．確認にはwcコマンドを用いよ．"
   ]
  },
  {
   "cell_type": "code",
   "execution_count": 6,
   "metadata": {},
   "outputs": [],
   "source": [
    "with open(TEXT_PATH) as f:\n",
    "    lines=f.readlines()"
   ]
  },
  {
   "cell_type": "code",
   "execution_count": 8,
   "metadata": {},
   "outputs": [
    {
     "data": {
      "text/plain": [
       "24"
      ]
     },
     "execution_count": 8,
     "metadata": {},
     "output_type": "execute_result"
    }
   ],
   "source": [
    "len(lines)"
   ]
  },
  {
   "cell_type": "markdown",
   "metadata": {},
   "source": [
    "### 確認のためのUNIXコマンド\n",
    "```\n",
    "wc -l {対象のファイル}\n",
    "```\n",
    "対象ファイルの行数をカウントする"
   ]
  },
  {
   "cell_type": "markdown",
   "metadata": {},
   "source": [
    "## 11. タブをスペースに置換\n",
    "タブ1文字につきスペース1文字に置換せよ．確認にはsedコマンド，trコマンド，もしくはexpandコマンドを用いよ．"
   ]
  },
  {
   "cell_type": "code",
   "execution_count": 2,
   "metadata": {},
   "outputs": [],
   "source": [
    "with open(TEXT_PATH) as f:\n",
    "    text=f.read()"
   ]
  },
  {
   "cell_type": "code",
   "execution_count": 4,
   "metadata": {},
   "outputs": [
    {
     "data": {
      "text/plain": [
       "'高知県 江川崎 41 2013-08-12\\n埼玉県 熊谷 40.9 2007-08-16\\n岐阜県 多治見 40.9 2007-08-16\\n山形県 山形 40.8 1933-07-25\\n山梨県 甲府 40.7 2013-08-10\\n和歌山県 かつらぎ 40.6 1994-08-08\\n静岡県 天竜 40.6 1994-08-04\\n山梨県 勝沼 40.5 2013-08-10\\n埼玉県 越谷 40.4 2007-08-16\\n群馬県 館林 40.3 2007-08-16\\n群馬県 上里見 40.3 1998-07-04\\n愛知県 愛西 40.3 1994-08-05\\n千葉県 牛久 40.2 2004-07-20\\n静岡県 佐久間 40.2 2001-07-24\\n愛媛県 宇和島 40.2 1927-07-22\\n山形県 酒田 40.1 1978-08-03\\n岐阜県 美濃 40 2007-08-16\\n群馬県 前橋 40 2001-07-24\\n千葉県 茂原 39.9 2013-08-11\\n埼玉県 鳩山 39.9 1997-07-05\\n大阪府 豊中 39.9 1994-08-08\\n山梨県 大月 39.9 1990-07-19\\n山形県 鶴岡 39.9 1978-08-03\\n愛知県 名古屋 39.9 1942-08-02\\n'"
      ]
     },
     "execution_count": 4,
     "metadata": {},
     "output_type": "execute_result"
    }
   ],
   "source": [
    "text.replace('\\t',' ')"
   ]
  },
  {
   "cell_type": "markdown",
   "metadata": {},
   "source": [
    "### 確認のためのUNIXコマンド\n",
    "```\n",
    "tr '\\t' ' ' < hightemp.txt > hightemp_conv.txt\n",
    "```\n",
    "`\\t`を`space`に変換したものをhightemp_conv.txtに書き込んで保存する"
   ]
  },
  {
   "cell_type": "markdown",
   "metadata": {},
   "source": [
    "## 12. 1列目をcol1.txtに，2列目をcol2.txtに保存\n",
    "各行の1列目だけを抜き出したものをcol1.txtに，2列目だけを抜き出したものをcol2.txtとしてファイルに保存せよ．確認にはcutコマンドを用いよ．"
   ]
  },
  {
   "cell_type": "code",
   "execution_count": 2,
   "metadata": {},
   "outputs": [],
   "source": [
    "with open(TEXT_PATH) as f:\n",
    "    lines=f.readlines()"
   ]
  },
  {
   "cell_type": "code",
   "execution_count": 10,
   "metadata": {},
   "outputs": [],
   "source": [
    "path_1='/Users/Zi/codes/lang100knocks/lang_processing100_knocks/data/col1.txt'\n",
    "path_2='/Users/Zi/codes/lang100knocks/lang_processing100_knocks/data/col2.txt'\n",
    "for num, line in enumerate(lines):\n",
    "    with open(path_1, mode='a') as f:\n",
    "        f.write(line.split('\\t')[0]+'\\n')\n",
    "    with open(path_2, mode='a') as f:\n",
    "        f.write(line.split('\\t')[1]+'\\n')"
   ]
  },
  {
   "cell_type": "markdown",
   "metadata": {},
   "source": [
    "### 確認のためのUNIXコマンド\n",
    "```\n",
    "cut -f 1 hightemp.txt\n",
    "cut -f 2 hightemp.txt\n",
    "```\n",
    "1,2番目の文字を取り出す, ファイルに出力する場合は\n",
    "```\n",
    "cut -f 1 hightemp.txt > col1\n",
    "cut -f 2 hightemp.txt > col2\n",
    "```"
   ]
  },
  {
   "cell_type": "markdown",
   "metadata": {},
   "source": [
    "## 13. col1.txtとcol2.txtをマージ\n",
    "12で作ったcol1.txtとcol2.txtを結合し，元のファイルの1列目と2列目をタブ区切りで並べたテキストファイルを作成せよ．確認にはpasteコマンドを用いよ"
   ]
  },
  {
   "cell_type": "code",
   "execution_count": 16,
   "metadata": {},
   "outputs": [],
   "source": [
    "path_1='/Users/Zi/codes/lang100knocks/lang_processing100_knocks/data/col1.txt'\n",
    "path_2='/Users/Zi/codes/lang100knocks/lang_processing100_knocks/data/col2.txt'\n",
    "res_path='/Users/Zi/codes/lang100knocks/lang_processing100_knocks/data/ans13.txt'\n",
    "with open(path_1) as f:\n",
    "    text1=f.read()\n",
    "with open(path_2) as f:\n",
    "    text2=f.read()"
   ]
  },
  {
   "cell_type": "code",
   "execution_count": 26,
   "metadata": {},
   "outputs": [],
   "source": [
    "t1_list=text1.split('\\n')\n",
    "t2_list=text2.split('\\n')"
   ]
  },
  {
   "cell_type": "code",
   "execution_count": 27,
   "metadata": {},
   "outputs": [],
   "source": [
    "del t1_list[-1]\n",
    "del t2_list[-1]"
   ]
  },
  {
   "cell_type": "code",
   "execution_count": 29,
   "metadata": {},
   "outputs": [],
   "source": [
    "for t1, t2 in zip(t1_list,t2_list):\n",
    "    with open(res_path, mode='a') as f:\n",
    "        f.write(t1+'\\t'+t2+'\\n')"
   ]
  },
  {
   "cell_type": "markdown",
   "metadata": {},
   "source": [
    "### 確認のためのUNIXコマンド\n",
    "```\n",
    "paste col1.txt col2.txt > ans13.txt\n",
    "```\n",
    "複数指定することもでき, 結合文字を指定する(デフォルトはタブ文字\\t)こともできる.\n",
    "```\n",
    "# 結合文字を ',' に指定\n",
    "paste -d , col1.txt col2.txt\n",
    "```"
   ]
  },
  {
   "cell_type": "markdown",
   "metadata": {},
   "source": [
    "## 14. 先頭からN行を出力\n",
    "自然数Nをコマンドライン引数などの手段で受け取り，入力のうち先頭のN行だけを表示せよ．確認にはheadコマンドを用いよ．"
   ]
  },
  {
   "cell_type": "code",
   "execution_count": 13,
   "metadata": {},
   "outputs": [],
   "source": [
    "with open(TEXT_PATH) as f:\n",
    "    lines=f.readlines()"
   ]
  },
  {
   "cell_type": "code",
   "execution_count": 21,
   "metadata": {},
   "outputs": [],
   "source": [
    "def output_text_head(text_lines, n):\n",
    "    for num in range(0,n):\n",
    "        print(text_lines[num],end='')"
   ]
  },
  {
   "cell_type": "code",
   "execution_count": 22,
   "metadata": {},
   "outputs": [
    {
     "name": "stdout",
     "output_type": "stream",
     "text": [
      "高知県\t江川崎\t41\t2013-08-12\n",
      "埼玉県\t熊谷\t40.9\t2007-08-16\n",
      "岐阜県\t多治見\t40.9\t2007-08-16\n",
      "山形県\t山形\t40.8\t1933-07-25\n",
      "山梨県\t甲府\t40.7\t2013-08-10\n"
     ]
    }
   ],
   "source": [
    "output_text_head(lines, 5)"
   ]
  },
  {
   "cell_type": "markdown",
   "metadata": {},
   "source": [
    ".pyファイルは`/section2/q14.py`  \n",
    "確認のUNIXコマンドは  \n",
    "`head -n 5 data/hightemp.txt`  \n",
    "(このコマンドの場合, 行数は5行)"
   ]
  },
  {
   "cell_type": "markdown",
   "metadata": {},
   "source": [
    "## 15. 末尾からN行を出力\n",
    "自然数Nをコマンドライン引数などの手段で受け取り，入力のうち末尾のN行だけを表示せよ．確認にはtailコマンドを用いよ．"
   ]
  },
  {
   "cell_type": "code",
   "execution_count": 3,
   "metadata": {},
   "outputs": [],
   "source": [
    "with open(TEXT_PATH) as f:\n",
    "    lines=f.readlines()"
   ]
  },
  {
   "cell_type": "code",
   "execution_count": 33,
   "metadata": {},
   "outputs": [],
   "source": [
    "def output_text_tail(text_lines, n):\n",
    "    for line in text_lines[len(text_lines)-n:]:\n",
    "        print(line,end='')"
   ]
  },
  {
   "cell_type": "code",
   "execution_count": 35,
   "metadata": {},
   "outputs": [
    {
     "name": "stdout",
     "output_type": "stream",
     "text": [
      "埼玉県\t鳩山\t39.9\t1997-07-05\n",
      "大阪府\t豊中\t39.9\t1994-08-08\n",
      "山梨県\t大月\t39.9\t1990-07-19\n",
      "山形県\t鶴岡\t39.9\t1978-08-03\n",
      "愛知県\t名古屋\t39.9\t1942-08-02\n"
     ]
    }
   ],
   "source": [
    "output_text_tail(lines,5) #答えのファイルは./section2/q15.py"
   ]
  },
  {
   "cell_type": "markdown",
   "metadata": {},
   "source": [
    ".pyファイルは`/section2/q15.py`  \n",
    "確認のUNIXコマンドは  \n",
    "`head -n 5 data/hightemp.txt`  \n",
    "(このコマンドの場合, 行数は5行)"
   ]
  },
  {
   "cell_type": "markdown",
   "metadata": {},
   "source": [
    "## 16. ファイルをN分割する\n",
    "自然数Nをコマンドライン引数などの手段で受け取り，入力のファイルを行単位でN分割せよ．同様の処理をsplitコマンドで実現せよ．"
   ]
  },
  {
   "cell_type": "code",
   "execution_count": 74,
   "metadata": {},
   "outputs": [],
   "source": [
    "ANS16_PATH='./section2/ans16/script/split'"
   ]
  },
  {
   "cell_type": "code",
   "execution_count": 75,
   "metadata": {},
   "outputs": [],
   "source": [
    "with open(TEXT_PATH) as f:\n",
    "    lines=f.readlines()"
   ]
  },
  {
   "cell_type": "code",
   "execution_count": 87,
   "metadata": {},
   "outputs": [],
   "source": [
    "def split_file(text_lines,num):\n",
    "    order=0\n",
    "    for count, n in enumerate(range(0,len(text_lines)+1,num)):\n",
    "        tmp_text=''\n",
    "        for line in text_lines[order:order+num]:\n",
    "            tmp_text+=line\n",
    "        with open(ANS16_PATH+str(num)+'_'+str(count+1)+'.txt', mode='w') as f:\n",
    "            f.write(tmp_text)\n",
    "        order+=num"
   ]
  },
  {
   "cell_type": "code",
   "execution_count": 88,
   "metadata": {},
   "outputs": [],
   "source": [
    "split_file(lines,5)"
   ]
  },
  {
   "cell_type": "markdown",
   "metadata": {},
   "source": [
    ".pyファイルは`/section2/q16.py`  \n",
    "確認のUNIXコマンドは  \n",
    "`split -l 5 ./data/hightemp.txt ./section2/ans16/command_line/split5_`  \n",
    "(このコマンドの場合, 行数は5行ずつに分割`~/split5_`に出力)"
   ]
  },
  {
   "cell_type": "markdown",
   "metadata": {},
   "source": [
    "## 17. １列目の文字列の異なり\n",
    "1列目の文字列の種類（異なる文字列の集合）を求めよ．確認にはsort, uniqコマンドを用いよ．"
   ]
  },
  {
   "cell_type": "code",
   "execution_count": 93,
   "metadata": {},
   "outputs": [],
   "source": [
    "set17=set()"
   ]
  },
  {
   "cell_type": "code",
   "execution_count": 90,
   "metadata": {},
   "outputs": [],
   "source": [
    "with open(TEXT_PATH) as f:\n",
    "    lines=f.readlines()"
   ]
  },
  {
   "cell_type": "code",
   "execution_count": 94,
   "metadata": {},
   "outputs": [],
   "source": [
    "for line in lines:\n",
    "    set17.add(line.split('\\t')[0])"
   ]
  },
  {
   "cell_type": "code",
   "execution_count": 96,
   "metadata": {},
   "outputs": [
    {
     "name": "stdout",
     "output_type": "stream",
     "text": [
      "{'山形県', '和歌山県', '群馬県', '高知県', '千葉県', '愛媛県', '大阪府', '静岡県', '山梨県', '愛知県', '岐阜県', '埼玉県'}\n"
     ]
    }
   ],
   "source": [
    "print(set17)"
   ]
  },
  {
   "cell_type": "markdown",
   "metadata": {},
   "source": [
    "確認のコマンドは\n",
    "`cut -f 1 ./data/hightemp.txt | sort | uniq`  \n",
    "1列目の切り出し→ソート→重複削除を`|`によって結果を渡しつつ実行"
   ]
  },
  {
   "cell_type": "markdown",
   "metadata": {},
   "source": [
    "## 18. 各行を3コラム目の数値の降順にソート\n",
    "各行を3コラム目の数値の逆順で整列せよ（注意: 各行の内容は変更せずに並び替えよ）．確認にはsortコマンドを用いよ（この問題はコマンドで実行した時の結果と合わなくてもよい）．"
   ]
  },
  {
   "cell_type": "code",
   "execution_count": null,
   "metadata": {},
   "outputs": [],
   "source": []
  }
 ],
 "metadata": {
  "kernelspec": {
   "display_name": "Python 3",
   "language": "python",
   "name": "python3"
  },
  "language_info": {
   "codemirror_mode": {
    "name": "ipython",
    "version": 3
   },
   "file_extension": ".py",
   "mimetype": "text/x-python",
   "name": "python",
   "nbconvert_exporter": "python",
   "pygments_lexer": "ipython3",
   "version": "3.6.7"
  }
 },
 "nbformat": 4,
 "nbformat_minor": 4
}
